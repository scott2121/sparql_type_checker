{
 "cells": [
  {
   "cell_type": "code",
   "execution_count": 1,
   "metadata": {},
   "outputs": [],
   "source": [
    "from sparql_type_checker.functions.sparql_type_checker import type_check_sparql"
   ]
  },
  {
   "cell_type": "code",
   "execution_count": 2,
   "metadata": {},
   "outputs": [],
   "source": [
    "query = \"\\nPREFIX core: <http://purl.uniprot.org/core/>\\nPREFIX chembl: <http://rdf.ebi.ac.uk/terms/chembl#>\\nPREFIX rdfs: <http://www.w3.org/2000/01/rdf-schema#>\\n\\nSELECT DISTINCT ?uniprot_seeAlso\\nWHERE {\\n    VALUES ?UniProt__class { core:Protein chembl:UniprotRef }\\n    ?UniProt a ?UniProt__class ;\\n        rdfs:seeAlso ?uniprot_seeAlso.\\n\\n}\\nLIMIT 10\\n\""
   ]
  },
  {
   "cell_type": "code",
   "execution_count": 3,
   "metadata": {},
   "outputs": [
    {
     "name": "stdout",
     "output_type": "stream",
     "text": [
      "sparql_type_checker/data/shex/uniprot_rdf-config.shex UNIPROT_SHEX\n"
     ]
    },
    {
     "name": "stderr",
     "output_type": "stream",
     "text": [
      "<http://purl.uniprot.org/core/Protein> does not look like a valid URI, trying to serialize this will break.\n",
      "<UniProtShape> does not look like a valid URI, trying to serialize this will break.\n",
      "<http://rdf.ebi.ac.uk/terms/chembl#UniprotRef> does not look like a valid URI, trying to serialize this will break.\n",
      "<UniProtShape> does not look like a valid URI, trying to serialize this will break.\n",
      "<UniProtShape> does not look like a valid URI, trying to serialize this will break.\n",
      "<UniProtShape> does not look like a valid URI, trying to serialize this will break.\n",
      "<UniProtShape> does not look like a valid URI, trying to serialize this will break.\n",
      "<UniProtShape> does not look like a valid URI, trying to serialize this will break.\n",
      "<FunctionAnnotationShape> does not look like a valid URI, trying to serialize this will break.\n",
      "<UniProtShape> does not look like a valid URI, trying to serialize this will break.\n",
      "<BindingSiteAnnotationShape> does not look like a valid URI, trying to serialize this will break.\n",
      "<UniProtShape> does not look like a valid URI, trying to serialize this will break.\n",
      "<CatalyticActivityAnnotationShape> does not look like a valid URI, trying to serialize this will break.\n",
      "<UniProtShape> does not look like a valid URI, trying to serialize this will break.\n",
      "<MutagenesisAnnotationShape> does not look like a valid URI, trying to serialize this will break.\n",
      "<UniProtShape> does not look like a valid URI, trying to serialize this will break.\n",
      "<NaturalVariantAnnotationShape> does not look like a valid URI, trying to serialize this will break.\n",
      "<UniProtShape> does not look like a valid URI, trying to serialize this will break.\n",
      "<NcbiGeneShape> does not look like a valid URI, trying to serialize this will break.\n",
      "<UniProtShape> does not look like a valid URI, trying to serialize this will break.\n",
      "<ReactomeShape> does not look like a valid URI, trying to serialize this will break.\n",
      "<UniProtShape> does not look like a valid URI, trying to serialize this will break.\n",
      "<PdbShape> does not look like a valid URI, trying to serialize this will break.\n",
      "<UniProtShape> does not look like a valid URI, trying to serialize this will break.\n",
      "<GOShape> does not look like a valid URI, trying to serialize this will break.\n",
      "<UniProtShape> does not look like a valid URI, trying to serialize this will break.\n",
      "<CitationShape> does not look like a valid URI, trying to serialize this will break.\n",
      "<UniProtShape> does not look like a valid URI, trying to serialize this will break.\n",
      "<http://purl.uniprot.org/core/Function_Annotation> does not look like a valid URI, trying to serialize this will break.\n",
      "<FunctionAnnotationShape> does not look like a valid URI, trying to serialize this will break.\n",
      "<FunctionAnnotationShape> does not look like a valid URI, trying to serialize this will break.\n",
      "<FunctionAnnotationShape> does not look like a valid URI, trying to serialize this will break.\n",
      "<http://purl.uniprot.org/core/Catalytic_Activity_Annotation> does not look like a valid URI, trying to serialize this will break.\n",
      "<CatalyticActivityAnnotationShape> does not look like a valid URI, trying to serialize this will break.\n",
      "<CatalyticActivityAnnotationShape> does not look like a valid URI, trying to serialize this will break.\n",
      "<RheaShape> does not look like a valid URI, trying to serialize this will break.\n",
      "<CatalyticActivityAnnotationShape> does not look like a valid URI, trying to serialize this will break.\n",
      "<RheaShape> does not look like a valid URI, trying to serialize this will break.\n",
      "<RheaShape> does not look like a valid URI, trying to serialize this will break.\n",
      "<RheaShape> does not look like a valid URI, trying to serialize this will break.\n",
      "<http://purl.uniprot.org/core/Mutagenesis_Annotation> does not look like a valid URI, trying to serialize this will break.\n",
      "<MutagenesisAnnotationShape> does not look like a valid URI, trying to serialize this will break.\n",
      "<MutagenesisAnnotationShape> does not look like a valid URI, trying to serialize this will break.\n",
      "<MutagenesisAnnotationShape> does not look like a valid URI, trying to serialize this will break.\n",
      "<MutagenesisAnnotationShape> does not look like a valid URI, trying to serialize this will break.\n",
      "<MutagenesisAnnotationShape> does not look like a valid URI, trying to serialize this will break.\n",
      "<http://purl.uniprot.org/core/Natural_Variant_Annotation> does not look like a valid URI, trying to serialize this will break.\n",
      "<NaturalVariantAnnotationShape> does not look like a valid URI, trying to serialize this will break.\n",
      "<NaturalVariantAnnotationShape> does not look like a valid URI, trying to serialize this will break.\n",
      "<NaturalVariantAnnotationShape> does not look like a valid URI, trying to serialize this will break.\n",
      "<NaturalVariantAnnotationShape> does not look like a valid URI, trying to serialize this will break.\n",
      "<NaturalVariantAnnotationShape> does not look like a valid URI, trying to serialize this will break.\n",
      "<NaturalVariantAnnotationShape> does not look like a valid URI, trying to serialize this will break.\n",
      "<NaturalVariantAnnotationShape> does not look like a valid URI, trying to serialize this will break.\n",
      "<http://purl.uniprot.org/core/Binding_Site_Annotation> does not look like a valid URI, trying to serialize this will break.\n",
      "<BindingSiteAnnotationShape> does not look like a valid URI, trying to serialize this will break.\n",
      "<BindingSiteAnnotationShape> does not look like a valid URI, trying to serialize this will break.\n",
      "<BindingSiteAnnotationShape> does not look like a valid URI, trying to serialize this will break.\n",
      "<http://purl.uniprot.org/core/Resource> does not look like a valid URI, trying to serialize this will break.\n",
      "<NcbiGeneShape> does not look like a valid URI, trying to serialize this will break.\n",
      "<NcbiGeneShape> does not look like a valid URI, trying to serialize this will break.\n",
      "<http://purl.uniprot.org/core/Resource> does not look like a valid URI, trying to serialize this will break.\n",
      "<ReactomeShape> does not look like a valid URI, trying to serialize this will break.\n",
      "<ReactomeShape> does not look like a valid URI, trying to serialize this will break.\n",
      "<http://purl.uniprot.org/core/Structure_Resource> does not look like a valid URI, trying to serialize this will break.\n",
      "<PdbShape> does not look like a valid URI, trying to serialize this will break.\n",
      "<http://www.w3.org/2002/07/owl#Class> does not look like a valid URI, trying to serialize this will break.\n",
      "<GOShape> does not look like a valid URI, trying to serialize this will break.\n",
      "<http://purl.uniprot.org/core/Journal_Citation> does not look like a valid URI, trying to serialize this will break.\n",
      "<CitationShape> does not look like a valid URI, trying to serialize this will break.\n",
      "<http://purl.uniprot.org/core/Submission_Citation> does not look like a valid URI, trying to serialize this will break.\n",
      "<CitationShape> does not look like a valid URI, trying to serialize this will break.\n",
      "<http://purl.uniprot.org/core/Thesis_Citation> does not look like a valid URI, trying to serialize this will break.\n",
      "<CitationShape> does not look like a valid URI, trying to serialize this will break.\n",
      "<http://purl.uniprot.org/core/Observation_Citation> does not look like a valid URI, trying to serialize this will break.\n",
      "<CitationShape> does not look like a valid URI, trying to serialize this will break.\n",
      "<http://purl.uniprot.org/core/Patent_Citation> does not look like a valid URI, trying to serialize this will break.\n",
      "<CitationShape> does not look like a valid URI, trying to serialize this will break.\n",
      "<http://purl.uniprot.org/core/Book_Citation> does not look like a valid URI, trying to serialize this will break.\n",
      "<CitationShape> does not look like a valid URI, trying to serialize this will break.\n",
      "<http://purl.uniprot.org/core/Electronic_Citation> does not look like a valid URI, trying to serialize this will break.\n",
      "<CitationShape> does not look like a valid URI, trying to serialize this will break.\n",
      "<CitationShape> does not look like a valid URI, trying to serialize this will break.\n",
      "<CitationShape> does not look like a valid URI, trying to serialize this will break.\n",
      "<CitationShape> does not look like a valid URI, trying to serialize this will break.\n",
      "<CitationShape> does not look like a valid URI, trying to serialize this will break.\n",
      "<CitationShape> does not look like a valid URI, trying to serialize this will break.\n",
      "<CitationShape> does not look like a valid URI, trying to serialize this will break.\n",
      "<CitationShape> does not look like a valid URI, trying to serialize this will break.\n",
      "<CitationShape> does not look like a valid URI, trying to serialize this will break.\n",
      "<CitationShape> does not look like a valid URI, trying to serialize this will break.\n",
      "<CitationShape> does not look like a valid URI, trying to serialize this will break.\n",
      "<CitationShape> does not look like a valid URI, trying to serialize this will break.\n",
      "<CitationShape> does not look like a valid URI, trying to serialize this will break.\n",
      "<CitationShape> does not look like a valid URI, trying to serialize this will break.\n",
      "<CitationShape> does not look like a valid URI, trying to serialize this will break.\n"
     ]
    },
    {
     "data": {
      "text/plain": [
       "{'correct_query': True,\n",
       " 'error_variables': [],\n",
       " 'all_vars': {'UniProt', 'UniProt__class', 'uniprot_seeAlso'}}"
      ]
     },
     "execution_count": 3,
     "metadata": {},
     "output_type": "execute_result"
    }
   ],
   "source": [
    "type_check_sparql(\"uniprot\", query)"
   ]
  },
  {
   "cell_type": "code",
   "execution_count": 6,
   "metadata": {},
   "outputs": [
    {
     "name": "stdout",
     "output_type": "stream",
     "text": [
      "['/Users/hikaru/Desktop/sparql_type_checking', '/Users/hikaru/.pyenv/versions/3.10.12/lib/python310.zip', '/Users/hikaru/.pyenv/versions/3.10.12/lib/python3.10', '/Users/hikaru/.pyenv/versions/3.10.12/lib/python3.10/lib-dynload', '', '/Users/hikaru/.pyenv/versions/3.10.12/lib/python3.10/site-packages', '/Users/hikaru/.pyenv/versions/3.10.12/lib/python3.10/site-packages/japanize_matplotlib-1.1.3-py3.10.egg', '/Users/hikaru/.pyenv/versions/3.10.12/lib/python3.10/site-packages/DateTime-5.2-py3.10.egg', '/Users/hikaru/.pyenv/versions/3.10.12/lib/python3.10/site-packages/wandb-0.16.0b1-py3.10.egg', '/Users/hikaru/.pyenv/versions/3.10.12/lib/python3.10/site-packages/typing-3.10.0.0-py3.10.egg', '/Users/hikaru/.pyenv/versions/3.10.12/lib/python3.10/site-packages/kiwisolver-1.4.5-py3.10-macosx-13.2-arm64.egg', '/Users/hikaru/.pyenv/versions/3.10.12/lib/python3.10/site-packages/fonttools-4.43.1-py3.10.egg', '/Users/hikaru/.pyenv/versions/3.10.12/lib/python3.10/site-packages/cycler-0.12.1-py3.10.egg', '/Users/hikaru/.pyenv/versions/3.10.12/lib/python3.10/site-packages/contourpy-1.1.1-py3.10-macosx-13.2-arm64.egg', '/Users/hikaru/.pyenv/versions/3.10.12/lib/python3.10/site-packages/zope.interface-6.1-py3.10-macosx-13.2-arm64.egg', '/Users/hikaru/.pyenv/versions/3.10.12/lib/python3.10/site-packages/setproctitle-1.3.3-py3.10-macosx-13.2-arm64.egg', '/Users/hikaru/.pyenv/versions/3.10.12/lib/python3.10/site-packages/pathtools-0.1.2-py3.10.egg', '/Users/hikaru/.pyenv/versions/3.10.12/lib/python3.10/site-packages/docker_pycreds-0.4.0-py3.10.egg', '/Users/hikaru/.pyenv/versions/3.10.12/lib/python3.10/site-packages/sentry_sdk-1.32.0-py3.10.egg']\n"
     ]
    }
   ],
   "source": [
    "import sys\n",
    "print(sys.path)\n"
   ]
  },
  {
   "cell_type": "code",
   "execution_count": 5,
   "metadata": {},
   "outputs": [
    {
     "name": "stdout",
     "output_type": "stream",
     "text": [
      "sparql_type_checker/data/shex/uniprot_rdf-config.shex UNIPROT_SHEX\n"
     ]
    },
    {
     "ename": "FileNotFoundError",
     "evalue": "[Errno 2] No such file or directory: 'sparql_type_checker/data/shex/uniprot_rdf-config.shex'",
     "output_type": "error",
     "traceback": [
      "\u001b[0;31m---------------------------------------------------------------------------\u001b[0m",
      "\u001b[0;31mFileNotFoundError\u001b[0m                         Traceback (most recent call last)",
      "Cell \u001b[0;32mIn[5], line 7\u001b[0m\n\u001b[1;32m      5\u001b[0m \u001b[38;5;28;01mif\u001b[39;00m \u001b[38;5;18m__name__\u001b[39m \u001b[38;5;241m==\u001b[39m \u001b[38;5;124m\"\u001b[39m\u001b[38;5;124m__main__\u001b[39m\u001b[38;5;124m\"\u001b[39m:\n\u001b[1;32m      6\u001b[0m     \u001b[38;5;28;01mimport\u001b[39;00m \u001b[38;5;21;01msys\u001b[39;00m\n\u001b[0;32m----> 7\u001b[0m     \u001b[43mtype_check_sparql\u001b[49m\u001b[43m(\u001b[49m\u001b[38;5;124;43m\"\u001b[39;49m\u001b[38;5;124;43muniprot\u001b[39;49m\u001b[38;5;124;43m\"\u001b[39;49m\u001b[43m,\u001b[49m\u001b[43m \u001b[49m\u001b[43mquery\u001b[49m\u001b[43m)\u001b[49m\n",
      "File \u001b[0;32m~/Desktop/sparql_type_checking/sparql_type_checker/functions/sparql_type_checker.py:151\u001b[0m, in \u001b[0;36mtype_check_sparql\u001b[0;34m(database_name, query)\u001b[0m\n\u001b[1;32m    149\u001b[0m path_to_shex \u001b[38;5;241m=\u001b[39m os\u001b[38;5;241m.\u001b[39mgetenv(\u001b[38;5;28mstr\u001b[39m\u001b[38;5;241m.\u001b[39mupper(database_name) \u001b[38;5;241m+\u001b[39m \u001b[38;5;124m\"\u001b[39m\u001b[38;5;124m_SHEX\u001b[39m\u001b[38;5;124m\"\u001b[39m)\n\u001b[1;32m    150\u001b[0m \u001b[38;5;28mprint\u001b[39m(path_to_shex, \u001b[38;5;28mstr\u001b[39m\u001b[38;5;241m.\u001b[39mupper(database_name) \u001b[38;5;241m+\u001b[39m \u001b[38;5;124m\"\u001b[39m\u001b[38;5;124m_SHEX\u001b[39m\u001b[38;5;124m\"\u001b[39m)\n\u001b[0;32m--> 151\u001b[0m \u001b[38;5;28;01mwith\u001b[39;00m \u001b[38;5;28;43mopen\u001b[39;49m\u001b[43m(\u001b[49m\u001b[43mpath_to_shex\u001b[49m\u001b[43m,\u001b[49m\u001b[43m \u001b[49m\u001b[38;5;124;43m\"\u001b[39;49m\u001b[38;5;124;43mr\u001b[39;49m\u001b[38;5;124;43m\"\u001b[39;49m\u001b[43m)\u001b[49m \u001b[38;5;28;01mas\u001b[39;00m f:\n\u001b[1;32m    152\u001b[0m     shex \u001b[38;5;241m=\u001b[39m f\u001b[38;5;241m.\u001b[39mread()\n\u001b[1;32m    154\u001b[0m shex_fromated \u001b[38;5;241m=\u001b[39m ShExEvaluator(schema\u001b[38;5;241m=\u001b[39mshex)\n",
      "\u001b[0;31mFileNotFoundError\u001b[0m: [Errno 2] No such file or directory: 'sparql_type_checker/data/shex/uniprot_rdf-config.shex'"
     ]
    }
   ],
   "source": [
    "#!/usr/bin/env python\n",
    "\n",
    "from sparql_type_checker.functions.sparql_type_checker import type_check_sparql\n",
    "\n",
    "if __name__ == \"__main__\":\n",
    "    import sys\n",
    "    type_check_sparql(\"uniprot\", query)\n"
   ]
  },
  {
   "cell_type": "code",
   "execution_count": 7,
   "metadata": {},
   "outputs": [
    {
     "data": {
      "text/plain": [
       "'/Users/hikaru/Desktop/sparql_type_checking/sparql_type_checker'"
      ]
     },
     "execution_count": 7,
     "metadata": {},
     "output_type": "execute_result"
    }
   ],
   "source": [
    "pwd"
   ]
  },
  {
   "cell_type": "code",
   "execution_count": null,
   "metadata": {},
   "outputs": [],
   "source": [
    "import sys\n",
    "sys.path.append('/path/to/your/module')  # 例：'/Users/hikaru/project/sparql_type_checker'\n"
   ]
  }
 ],
 "metadata": {
  "kernelspec": {
   "display_name": "Python 3",
   "language": "python",
   "name": "python3"
  },
  "language_info": {
   "codemirror_mode": {
    "name": "ipython",
    "version": 3
   },
   "file_extension": ".py",
   "mimetype": "text/x-python",
   "name": "python",
   "nbconvert_exporter": "python",
   "pygments_lexer": "ipython3",
   "version": "3.10.12"
  }
 },
 "nbformat": 4,
 "nbformat_minor": 2
}
